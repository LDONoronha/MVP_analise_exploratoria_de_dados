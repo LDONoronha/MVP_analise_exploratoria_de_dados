{
  "nbformat": 4,
  "nbformat_minor": 0,
  "metadata": {
    "colab": {
      "provenance": [],
      "authorship_tag": "ABX9TyPFYBc1eMuOSvA8YDZbJ4zz",
      "include_colab_link": true
    },
    "kernelspec": {
      "name": "python3",
      "display_name": "Python 3"
    },
    "language_info": {
      "name": "python"
    }
  },
  "cells": [
    {
      "cell_type": "markdown",
      "metadata": {
        "id": "view-in-github",
        "colab_type": "text"
      },
      "source": [
        "<a href=\"https://colab.research.google.com/github/LDONoronha/MVP_analise_exploratoria_de_dados/blob/main/MVPPUC.ipynb\" target=\"_parent\"><img src=\"https://colab.research.google.com/assets/colab-badge.svg\" alt=\"Open In Colab\"/></a>"
      ]
    },
    {
      "cell_type": "markdown",
      "source": [
        "MVP de Análise de Dados e Boas Práticas\n",
        "\n",
        "Aluno Lucas de Oliveira Noronha\n",
        "\n",
        "1. Definição do Problema\n",
        "\n",
        "O dataset utilizado sera o Global Electricity Statistics que contém os dados anuais de 1980  a 2021 sobre estatísticas mundiais de eletricidade. O objetivo é prever o consumo de energia global para os poximos 5 anos. O conjunto de dados tem um total de 4 recursos (todas as informações estão em bilhões de kWh e milhões de kW). Para mais detalhes sobre este dataset, consulte:https://www.kaggle.com/datasets/akhiljethwa/global-electricity-statistics\n",
        "\n",
        "Informações sobre os atributos:\n",
        "\n",
        "*   País : Nome do país\n",
        "*   Região : Região do País\n",
        "\n",
        "*   Transação de Eletricidade : Diferentes 7 tipos de transações/atividades, cujos detalhes são fornecidos abaixo.\n",
        "*   Anos : Total de 41 colunas do ano de 1980 a 2021.\n",
        "\n",
        "Atividades/transações de eletricidade:\n",
        "\n",
        "Geração Líquida (bilhões de kWh) : Geração/produção de eletricidade\n",
        "\n",
        "*   Geração Líquida (bilhões de kWh) : Geração/produção de eletricidade\n",
        "*   Consumo Líquido (bilhões de kWh) : Consumo de eletricidade\n",
        "\n",
        "*   Exportações (bilhões de kWh) : Exportações de eletricidade\n",
        "*   Importações líquidas (bilhões de kWh) : Importações líquidas de eletricidade\n",
        "\n",
        "\n",
        "*   Capacidade instalada (milhões de kW) : A quantidade máxima de eletricidade que uma estação geradora (também conhecida como usina) pode produzir sob condições específicas designadas pelo fabricante.\n",
        "*   Perdas de distribuição (bilhões de kWh) : As perdas de transmissão e distribuição referem-se às perdas que ocorrem na transmissão de eletricidade entre as fontes de fornecimento e os pontos de distribuição."
      ],
      "metadata": {
        "id": "JmLCMb7fFilB"
      }
    },
    {
      "cell_type": "code",
      "execution_count": null,
      "metadata": {
        "id": "3W8HOeCeE3h6"
      },
      "outputs": [],
      "source": [
        "# Para Analises de Dados\n",
        "import numpy as np\n",
        "import pandas as pd\n",
        "import matplotlib.pyplot as plt\n",
        "import seaborn as sns\n",
        "\n",
        "# Para Visualização de Dados\n",
        "import plotly.express as px\n",
        "import plotly.io as pio\n",
        "\n",
        "# Importações Adicionais\n",
        "from termcolor import colored\n",
        "import country_converter as coco\n",
        "import datetime\n",
        "import calendar\n",
        "import missingno as ms # para tratamento de missings\n",
        "from matplotlib import cm\n",
        "from pandas import set_option\n",
        "from pandas.plotting import scatter_matrix\n",
        "from sklearn.preprocessing import StandardScaler\n",
        "from sklearn.preprocessing import MinMaxScaler\n",
        "from sklearn.model_selection import train_test_split\n",
        "from sklearn.model_selection import KFold\n",
        "from sklearn.model_selection import StratifiedKFold\n",
        "from sklearn.model_selection import cross_val_score\n",
        "from sklearn.model_selection import GridSearchCV\n",
        "from sklearn.metrics import classification_report\n",
        "from sklearn.metrics import confusion_matrix\n",
        "from sklearn.metrics import accuracy_score\n",
        "from sklearn.pipeline import Pipeline\n",
        "from sklearn.linear_model import LogisticRegression\n",
        "from sklearn.tree import DecisionTreeClassifier\n",
        "from sklearn.neighbors import KNeighborsClassifier\n",
        "from sklearn.naive_bayes import GaussianNB\n",
        "from sklearn.svm import SVC\n",
        "from sklearn.ensemble import BaggingClassifier\n",
        "from sklearn.ensemble import RandomForestClassifier\n",
        "from sklearn.ensemble import ExtraTreesClassifier\n",
        "from sklearn.ensemble import VotingClassifier\n",
        "from sklearn.ensemble import AdaBoostClassifier\n",
        "from sklearn.ensemble import GradientBoostingClassifier\n",
        "# Definir modelo plotly\n",
        "pio.templates.default = \"plotly_dark\""
      ]
    },
    {
      "cell_type": "markdown",
      "source": [
        "2. Carga de Dados\n",
        "\n",
        "Iremos usar o pacote Pandas (Python Data Analysis Library) para carregar de um arquivo .csv disponível online.\n",
        "\n",
        "Com o dataset carregado, iremos explorá-lo um pouco."
      ],
      "metadata": {
        "id": "eoZCAPISN95y"
      }
    },
    {
      "cell_type": "code",
      "source": [
        "# Carrega arquivo csv usando Pandas usando uma URL\n",
        "\n",
        "# Informa a URL de importação do dataset\n",
        "\n",
        "url = \"https://github.com/LDONoronha/MVP_analise_exploratoria_de_dados/blob/a4b83c75a06193d0a6d3715bf18c2211985e0a7c/Global%20Electricity%20Statistics.csv\"\n",
        "\n",
        "# Lê o arquivo utilizando as colunas informadas\n",
        "dataset = pd.read_csv\n"
      ],
      "metadata": {
        "id": "VDROPiCZQH0H"
      },
      "execution_count": 19,
      "outputs": []
    }
  ]
}